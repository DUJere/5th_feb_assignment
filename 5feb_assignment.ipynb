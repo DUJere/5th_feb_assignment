{
 "cells": [
  {
   "cell_type": "markdown",
   "id": "4d1dc75d-6ca2-4954-9704-72321aa8d066",
   "metadata": {},
   "source": [
    "Q1. Explain Class and Object with respect to Object-Oriented Programming. Give a suitable example."
   ]
  },
  {
   "cell_type": "markdown",
   "id": "fafebb8f-1d06-49bd-b94a-c6b3800949a6",
   "metadata": {},
   "source": [
    "Answer : \n",
    "    1 . A class is considered as a blueprint of objects.\n",
    "    2. Object is an instance of a class.\n",
    "        "
   ]
  },
  {
   "cell_type": "code",
   "execution_count": 1,
   "id": "b5cbe76d-e084-4af1-acc4-bf720384f217",
   "metadata": {},
   "outputs": [],
   "source": [
    "## example of class and object \n",
    "\n",
    "class bike :\n",
    "    name = \"\"\n",
    "    speed = 0"
   ]
  },
  {
   "cell_type": "code",
   "execution_count": 2,
   "id": "48efbe29-6313-4bb0-bb40-8d127dea3236",
   "metadata": {},
   "outputs": [],
   "source": [
    "splendor = bike()"
   ]
  },
  {
   "cell_type": "code",
   "execution_count": 3,
   "id": "f71e7360-8fb2-4ecc-9fc7-42e9e7a933d2",
   "metadata": {},
   "outputs": [],
   "source": [
    "splendor.name = \"hero\"\n",
    "splendor.speed = 80"
   ]
  },
  {
   "cell_type": "markdown",
   "id": "06f47966-328f-4d43-8964-cd592758f59f",
   "metadata": {},
   "source": [
    "Q2. Name the four pillars of OOPs."
   ]
  },
  {
   "cell_type": "markdown",
   "id": "25bd102b-329b-4639-a55f-0f1316a98411",
   "metadata": {},
   "source": [
    "Answer : Inheritance, Polymorphism, Encapsulation and Abstraction"
   ]
  },
  {
   "cell_type": "markdown",
   "id": "1adb58f9-17fd-41d4-83be-7f0ee7ee2bd3",
   "metadata": {},
   "source": [
    "Q3. Explain why the __init__() function is used. Give a suitable example."
   ]
  },
  {
   "cell_type": "markdown",
   "id": "497e76fa-b77a-4f13-8667-2feac3b49a00",
   "metadata": {},
   "source": [
    "Answer : The __init__ function is called every time an object is created from a class. The __init__ method lets the class initialize the object's attributes and serves no other purpose."
   ]
  },
  {
   "cell_type": "code",
   "execution_count": 13,
   "id": "1eab2232-4304-4860-84b5-c539675aa235",
   "metadata": {},
   "outputs": [],
   "source": [
    "## example \n",
    "\n",
    "class person : \n",
    "    def __init__ (self,name,age):\n",
    "        self.name = name\n",
    "        self.age = age"
   ]
  },
  {
   "cell_type": "code",
   "execution_count": 14,
   "id": "b42452d0-d154-450a-9c6a-056375fa7253",
   "metadata": {},
   "outputs": [],
   "source": [
    "p1 = person(\"dj\",25)"
   ]
  },
  {
   "cell_type": "code",
   "execution_count": 15,
   "id": "a360c063-422c-4833-b8d4-f0836e040a25",
   "metadata": {},
   "outputs": [
    {
     "data": {
      "text/plain": [
       "<__main__.person at 0x7f32f7db8e80>"
      ]
     },
     "execution_count": 15,
     "metadata": {},
     "output_type": "execute_result"
    }
   ],
   "source": [
    "p1"
   ]
  },
  {
   "cell_type": "code",
   "execution_count": 18,
   "id": "c299d293-8613-4c7c-97bb-13f1dd7444a0",
   "metadata": {},
   "outputs": [
    {
     "name": "stdout",
     "output_type": "stream",
     "text": [
      "dj\n",
      "25\n"
     ]
    }
   ],
   "source": [
    "print(p1.name)\n",
    "print(p1.age)"
   ]
  },
  {
   "cell_type": "markdown",
   "id": "2ebbb06c-f49c-4cf3-a977-f765bc36f7a6",
   "metadata": {},
   "source": [
    "Q4. Why self is used in OOPs?"
   ]
  },
  {
   "cell_type": "markdown",
   "id": "e8ec110f-4585-4841-a50e-888804b3b38b",
   "metadata": {},
   "source": [
    "Answer : self represents the instance of the class. By using the “self”  we can access the attributes and methods of the class in python. It binds the attributes with the given arguments."
   ]
  },
  {
   "cell_type": "markdown",
   "id": "c2e53e26-0049-48ce-a00b-f6e7117dab5a",
   "metadata": {},
   "source": [
    "Q5. What is inheritance? Give an example for each type of inheritance."
   ]
  },
  {
   "cell_type": "markdown",
   "id": "3c34ac74-6a2f-48c9-a910-f3fbf3278729",
   "metadata": {},
   "source": [
    "Answer : Inheritance is defined as the mechanism of inheriting the properties of the base class to the child class."
   ]
  },
  {
   "cell_type": "code",
   "execution_count": null,
   "id": "cbc4299f-fee9-43a6-bac0-9ec746f1bad0",
   "metadata": {},
   "outputs": [],
   "source": []
  }
 ],
 "metadata": {
  "kernelspec": {
   "display_name": "Python 3 (ipykernel)",
   "language": "python",
   "name": "python3"
  },
  "language_info": {
   "codemirror_mode": {
    "name": "ipython",
    "version": 3
   },
   "file_extension": ".py",
   "mimetype": "text/x-python",
   "name": "python",
   "nbconvert_exporter": "python",
   "pygments_lexer": "ipython3",
   "version": "3.10.8"
  }
 },
 "nbformat": 4,
 "nbformat_minor": 5
}
